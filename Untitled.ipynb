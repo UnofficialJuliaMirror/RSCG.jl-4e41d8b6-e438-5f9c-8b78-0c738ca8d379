{
 "cells": [
  {
   "cell_type": "code",
   "execution_count": 69,
   "metadata": {},
   "outputs": [
    {
     "name": "stderr",
     "output_type": "stream",
     "text": [
      "WARNING: replacing module RSCG.\n"
     ]
    }
   ],
   "source": [
    "include(\"./src/RSCG.jl\")\n",
    "using .RSCG\n"
   ]
  },
  {
   "cell_type": "code",
   "execution_count": 72,
   "metadata": {},
   "outputs": [
    {
     "data": {
      "text/markdown": [
       "```\n",
       "greensfunctions(i::Integer,j::Integer,σ::Array{ComplexF64,1},A)\n",
       "```\n",
       "\n",
       "Calculate the matrix element of the Green's function:\n",
       "\n",
       "$$\n",
       "G_{ij}(\\sigma_k) = \\left[ (\\sigma_k I - A)^{-1} \\right]_{ij},\n",
       "$$\n",
       "\n",
       "with the use of the reduced-shifted conjugate gradient method (See, Y. Nagai, Y. Shinohara, Y. Futamura, and T. Sakurai,[arXiv:1607.03992v2 or DOI:10.7566/JPSJ.86.014708]). One can obtain $G_{ij}(\\sigma_k)$ with different frequencies $\\sigma_k$, simultaneously.\n",
       "\n",
       "Inputs:\n",
       "\n",
       "  * `i` :index of the Green's function\n",
       "  * `j` :index of the Green's function\n",
       "  * `σ` :frequencies\n",
       "  * `A` :hermitian matrix. We can use Arrays,LinearMaps, SparseArrays\n",
       "  * `eps` :residual (optional) Default:`1e-8`\n",
       "  * `maximumsteps` : maximum number of steps (optional) Default:`20000`\n",
       "\n",
       "Output:\n",
       "\n",
       "  * `Gij[1:M]`: the matrix element Green's functions at M frequencies defined by $\\sigma_k$.\n",
       "\n",
       "---\n",
       "\n",
       "```\n",
       "greensfunctions(vec_left::Array{Integer,1},j::Integer,σ::Array{ComplexF64,1},A)\n",
       "```\n",
       "\n",
       "Calculate the matrix element of the Green's function:\n",
       "\n",
       "$$\n",
       "G_{ij}(\\sigma_k) = \\left[ (\\sigma_k I - A)^{-1} \\right]_{ij},\n",
       "$$\n",
       "\n",
       "with the use of the reduced-shifted conjugate gradient method (See, Y. Nagai, Y. Shinohara, Y. Futamura, and T. Sakurai,[arXiv:1607.03992v2 or DOI:10.7566/JPSJ.86.014708]). One can obtain $G_{ij}(\\sigma_k)$ with different frequencies $\\sigma_k$, simultaneously.\n",
       "\n",
       "Inputs:\n",
       "\n",
       "  * `vec_left` :i indices of the Green's function\n",
       "  * `j` :index of the Green's function\n",
       "  * `σ` :frequencies\n",
       "  * `A` :hermitian matrix. We can use Arrays,LinearMaps, SparseArrays\n",
       "  * `eps` :residual (optional) Default:`1e-8`\n",
       "  * `maximumsteps` : maximum number of steps (optional) Default:`20000`\n",
       "\n",
       "Output:\n",
       "\n",
       "  * `Gij[1:M,1:length(vec_left)]`: the matrix element Green's functions at M frequencies defined by $\\sigma_k$.\n"
      ],
      "text/plain": [
       "\u001b[36m  greensfunctions(i::Integer,j::Integer,σ::Array{ComplexF64,1},A)\u001b[39m\n",
       "\n",
       "  Calculate the matrix element of the Green's function:\n",
       "\n",
       "\u001b[35mG_{ij}(\\sigma_k) = \\left[ (\\sigma_k I - A)^{-1} \\right]_{ij},\u001b[39m\n",
       "\n",
       "  with the use of the reduced-shifted conjugate gradient method (See, Y.\n",
       "  Nagai, Y. Shinohara, Y. Futamura, and T. Sakurai,[arXiv:1607.03992v2 or\n",
       "  DOI:10.7566/JPSJ.86.014708]). One can obtain \u001b[35mG_{ij}(\\sigma_k)\u001b[39m with different\n",
       "  frequencies \u001b[35m\\sigma_k\u001b[39m, simultaneously.\n",
       "\n",
       "  Inputs:\n",
       "\n",
       "    •    \u001b[36mi\u001b[39m :index of the Green's function\n",
       "\n",
       "    •    \u001b[36mj\u001b[39m :index of the Green's function\n",
       "\n",
       "    •    \u001b[36mσ\u001b[39m :frequencies\n",
       "\n",
       "    •    \u001b[36mA\u001b[39m :hermitian matrix. We can use Arrays,LinearMaps, SparseArrays\n",
       "\n",
       "    •    \u001b[36meps\u001b[39m :residual (optional) Default:\u001b[36m1e-8\u001b[39m\n",
       "\n",
       "    •    \u001b[36mmaximumsteps\u001b[39m : maximum number of steps (optional) Default:\u001b[36m20000\u001b[39m\n",
       "\n",
       "  Output:\n",
       "\n",
       "    •    \u001b[36mGij[1:M]\u001b[39m: the matrix element Green's functions at M frequencies\n",
       "        defined by \u001b[35m\\sigma_k\u001b[39m.\n",
       "\n",
       "  ────────────────────────────────────────────────────────────────────────────\n",
       "\n",
       "\u001b[36m  greensfunctions(vec_left::Array{Integer,1},j::Integer,σ::Array{ComplexF64,1},A)\u001b[39m\n",
       "\n",
       "  Calculate the matrix element of the Green's function:\n",
       "\n",
       "\u001b[35mG_{ij}(\\sigma_k) = \\left[ (\\sigma_k I - A)^{-1} \\right]_{ij},\u001b[39m\n",
       "\n",
       "  with the use of the reduced-shifted conjugate gradient method (See, Y.\n",
       "  Nagai, Y. Shinohara, Y. Futamura, and T. Sakurai,[arXiv:1607.03992v2 or\n",
       "  DOI:10.7566/JPSJ.86.014708]). One can obtain \u001b[35mG_{ij}(\\sigma_k)\u001b[39m with different\n",
       "  frequencies \u001b[35m\\sigma_k\u001b[39m, simultaneously.\n",
       "\n",
       "  Inputs:\n",
       "\n",
       "    •    \u001b[36mvec_left\u001b[39m :i indices of the Green's function\n",
       "\n",
       "    •    \u001b[36mj\u001b[39m :index of the Green's function\n",
       "\n",
       "    •    \u001b[36mσ\u001b[39m :frequencies\n",
       "\n",
       "    •    \u001b[36mA\u001b[39m :hermitian matrix. We can use Arrays,LinearMaps, SparseArrays\n",
       "\n",
       "    •    \u001b[36meps\u001b[39m :residual (optional) Default:\u001b[36m1e-8\u001b[39m\n",
       "\n",
       "    •    \u001b[36mmaximumsteps\u001b[39m : maximum number of steps (optional) Default:\u001b[36m20000\u001b[39m\n",
       "\n",
       "  Output:\n",
       "\n",
       "    •    \u001b[36mGij[1:M,1:length(vec_left)]\u001b[39m: the matrix element Green's functions\n",
       "        at M frequencies defined by \u001b[35m\\sigma_k\u001b[39m."
      ]
     },
     "execution_count": 72,
     "metadata": {},
     "output_type": "execute_result"
    }
   ],
   "source": [
    "?RSCG.greensfunctions"
   ]
  },
  {
   "cell_type": "code",
   "execution_count": 61,
   "metadata": {},
   "outputs": [
    {
     "data": {
      "text/plain": [
       "3-element Array{Float64,1}:\n",
       "  4.0\n",
       " 20.0\n",
       "  0.0"
      ]
     },
     "execution_count": 61,
     "metadata": {},
     "output_type": "execute_result"
    }
   ],
   "source": [
    "using SparseArrays\n",
    "using LinearAlgebra\n",
    "B = spzeros(Float64,3,3)\n",
    "B[1,1] = 4\n",
    "B[2,2] = 10\n",
    "x = [1,2,3]\n",
    "y = zeros(Float64,3)\n",
    "B*x"
   ]
  },
  {
   "cell_type": "code",
   "execution_count": 49,
   "metadata": {},
   "outputs": [
    {
     "data": {
      "text/plain": [
       "2"
      ]
     },
     "execution_count": 49,
     "metadata": {},
     "output_type": "execute_result"
    }
   ],
   "source": [
    "A = [1 2\n",
    "    3 4]\n",
    "size(A,1)"
   ]
  },
  {
   "cell_type": "code",
   "execution_count": 50,
   "metadata": {},
   "outputs": [
    {
     "data": {
      "text/plain": [
       "2-element Array{Int64,1}:\n",
       " 1\n",
       " 2"
      ]
     },
     "execution_count": 50,
     "metadata": {},
     "output_type": "execute_result"
    }
   ],
   "source": [
    "a = [1,2]"
   ]
  },
  {
   "cell_type": "code",
   "execution_count": 51,
   "metadata": {},
   "outputs": [
    {
     "data": {
      "text/plain": [
       "2"
      ]
     },
     "execution_count": 51,
     "metadata": {},
     "output_type": "execute_result"
    }
   ],
   "source": [
    "maximum(a)"
   ]
  },
  {
   "cell_type": "code",
   "execution_count": 62,
   "metadata": {},
   "outputs": [
    {
     "data": {
      "text/plain": [
       "#3 (generic function with 1 method)"
      ]
     },
     "execution_count": 62,
     "metadata": {},
     "output_type": "execute_result"
    }
   ],
   "source": [
    "function set_diff(v) \n",
    "    function calc_diff!(y::AbstractVector, x::AbstractVector)\n",
    "        n = length(x)\n",
    "        length(y) == n || throw(DimensionMismatch())\n",
    "        for i=1:n\n",
    "            dx = 1\n",
    "            jp = i+dx\n",
    "            jp += ifelse(jp > n,-n,0) #+1方向\n",
    "            dx = -1\n",
    "            jm = i+dx\n",
    "            jm += ifelse(jm < 1,n,0) #-1方向\n",
    "            y[i] = v*(x[jp]+x[jm])\n",
    "        end\n",
    "        return y\n",
    "    end\n",
    "    (y,x) -> calc_diff!(y,x)\n",
    "end\n",
    "\n",
    "A = set_diff(-1.0)\n",
    "\n"
   ]
  },
  {
   "cell_type": "code",
   "execution_count": 63,
   "metadata": {},
   "outputs": [
    {
     "name": "stderr",
     "output_type": "stream",
     "text": [
      "┌ Info: Recompiling stale cache file /Users/nagai/.julia/compiled/v1.0/LinearMaps/bdfwy.ji for LinearMaps [7a12625a-238d-50fd-b39a-03d52299707e]\n",
      "└ @ Base loading.jl:1184\n"
     ]
    },
    {
     "data": {
      "text/plain": [
       "LinearMaps.FunctionMap{Float64}(getfield(Main, Symbol(\"##3#5\")){getfield(Main, Symbol(\"#calc_diff!#4\")){Float64}}(getfield(Main, Symbol(\"#calc_diff!#4\")){Float64}(-1.0)), 100, 100; ismutating=true, issymmetric=true, ishermitian=true, isposdef=false)"
      ]
     },
     "execution_count": 63,
     "metadata": {},
     "output_type": "execute_result"
    }
   ],
   "source": [
    "using LinearMaps\n",
    "n = 100\n",
    "D = LinearMap(A, n; ismutating=true,issymmetric=true)"
   ]
  },
  {
   "cell_type": "code",
   "execution_count": 64,
   "metadata": {},
   "outputs": [
    {
     "data": {
      "text/plain": [
       "100"
      ]
     },
     "execution_count": 64,
     "metadata": {},
     "output_type": "execute_result"
    }
   ],
   "source": [
    "size(D,1)"
   ]
  },
  {
   "cell_type": "code",
   "execution_count": null,
   "metadata": {},
   "outputs": [],
   "source": []
  }
 ],
 "metadata": {
  "kernelspec": {
   "display_name": "Julia 1.0.0",
   "language": "julia",
   "name": "julia-1.0"
  },
  "language_info": {
   "file_extension": ".jl",
   "mimetype": "application/julia",
   "name": "julia",
   "version": "1.0.0"
  }
 },
 "nbformat": 4,
 "nbformat_minor": 2
}
